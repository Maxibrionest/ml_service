{
 "cells": [
  {
   "cell_type": "code",
   "execution_count": 1,
   "id": "b40392b5",
   "metadata": {},
   "outputs": [],
   "source": [
    "import pandas as pd\n",
    "import numpy as np\n",
    "#import matplotlib.pyplot as plt\n",
    "from sklearn.linear_model import LinearRegression\n",
    "from sklearn.model_selection import train_test_split\n",
    "#import seaborn as sns\n",
    "from sklearn.metrics import mean_squared_error\n",
    "from sklearn.metrics import mean_absolute_error\n",
    "from sklearn.metrics import r2_score\n",
    "from sklearn.preprocessing import StandardScaler\n",
    "from sklearn.preprocessing import MinMaxScaler\n",
    "from sklearn.tree import DecisionTreeRegressor\n",
    "from sklearn import tree\n",
    "from sklearn.model_selection import GridSearchCV\n",
    "from sklearn.ensemble import RandomForestRegressor\n",
    "import joblib"
   ]
  },
  {
   "cell_type": "code",
   "execution_count": 2,
   "id": "b80dfaa2",
   "metadata": {},
   "outputs": [],
   "source": [
    "url = 'https://raw.githubusercontent.com/Maxibrionest/FMY-Fundamentos-Machine-Learning/main/Entrega1/boston_housing.csv'\n",
    "df = pd.read_csv(url, sep=\",\")"
   ]
  },
  {
   "cell_type": "code",
   "execution_count": 3,
   "id": "7eb8b846",
   "metadata": {},
   "outputs": [],
   "source": [
    "def clean_custom(df, col, iqrFences):\n",
    "    q1 = df[col].quantile(.25)\n",
    "    q3 = df[col].quantile(.75)\n",
    "    iqr = q3-q1 #IQR definido anteriormente\n",
    "    fence_low  = q1 - iqrFences * iqr\n",
    "    fence_high = q3 + iqrFences * iqr\n",
    "    df_out = df.loc[(df[col] > fence_low) & (df[col] < fence_high)]\n",
    "    size = df_out.shape[0]\n",
    "    pctg = size/df.shape[0]   # calcula el porcentaje de observaciones consideradas respecto al df original\n",
    "    return df_out, pctg\n",
    "\n",
    "def clean_outliers_hard(df, col):\n",
    "    # elimina outliers fuera del rango +- 1.5 IQR de los cuartiles\n",
    "    # En el boxplot, elimina los datos atípicos\n",
    "    q1 = df[col].quantile(.25)\n",
    "    q3 = df[col].quantile(.75)\n",
    "    iqr = q3-q1 #IQR definido anteriormente\n",
    "    fence_low  = q1 - 1.5*iqr\n",
    "    fence_high = q3 + 1.5*iqr\n",
    "    df_out = df.loc[(df[col] > fence_low) & (df[col] < fence_high)]\n",
    "    return df_out\n",
    "\n",
    "def clean_outliers_soft(df, col):\n",
    "    # elimina outliers fuera del rango +- 3.0 IQR de los cuartiles\n",
    "    # Dado que sus limites son mas amplios, elimina menos datos o equivalentemente considera mas datos\n",
    "    q1 = df[col].quantile(.25)\n",
    "    q3 = df[col].quantile(.75)\n",
    "    iqr = q3-q1 #IQR definido anteriormente\n",
    "    fence_low  = q1 - 3*iqr\n",
    "    fence_high = q3 + 3*iqr\n",
    "    df_out = df.loc[(df[col] > fence_low) & (df[col] < fence_high)]\n",
    "    return df_out\n"
   ]
  },
  {
   "cell_type": "code",
   "execution_count": 4,
   "id": "c141c221",
   "metadata": {},
   "outputs": [],
   "source": [
    "train_mode_a = dict(df.drop(['medv'], axis=1).mode().iloc[0])"
   ]
  },
  {
   "cell_type": "code",
   "execution_count": 5,
   "id": "46957511",
   "metadata": {},
   "outputs": [
    {
     "data": {
      "text/plain": [
       "{'crim': 0.0150099999999999,\n",
       " 'zn': 0.0,\n",
       " 'indus': 18.1,\n",
       " 'chas': 0.0,\n",
       " 'nox': 0.538,\n",
       " 'rm': 5.713,\n",
       " 'age': 100.0,\n",
       " 'dis': 3.4952,\n",
       " 'rad': 24.0,\n",
       " 'tax': 666.0,\n",
       " 'ptratio': 20.2,\n",
       " 'black': 396.9,\n",
       " 'lstat': 6.36}"
      ]
     },
     "execution_count": 5,
     "metadata": {},
     "output_type": "execute_result"
    }
   ],
   "source": [
    "train_mode_a"
   ]
  },
  {
   "cell_type": "code",
   "execution_count": 6,
   "id": "8aaa5edb",
   "metadata": {},
   "outputs": [],
   "source": [
    "df_clean, df_clean_p = clean_custom(df, \"crim\", 1.5)\n",
    "df_clean, df_clean_p = clean_custom(df_clean, \"zn\", 1.5)\n",
    "df_clean, df_clean_p = clean_custom(df_clean, \"indus\", 1.5)\n",
    "df_clean, df_clean_p = clean_custom(df_clean, \"nox\", 1.5)\n",
    "df_clean, df_clean_p = clean_custom(df_clean, \"rm\", 1.5)\n",
    "df_clean, df_clean_p = clean_custom(df_clean, \"age\", 1.5)\n",
    "df_clean, df_clean_p = clean_custom(df_clean, \"dis\", 1.5)\n",
    "df_clean, df_clean_p = clean_custom(df_clean, \"rad\", 1.5)\n",
    "df_clean, df_clean_p = clean_custom(df_clean, \"tax\", 1.5)\n",
    "df_clean, df_clean_p = clean_custom(df_clean, \"ptratio\", 1.5)\n",
    "df_clean, df_clean_p = clean_custom(df_clean, \"black\", 1.5)\n",
    "df_clean, df_clean_p = clean_custom(df_clean, \"lstat\", 1.5)"
   ]
  },
  {
   "cell_type": "code",
   "execution_count": 7,
   "id": "8cf25ad9",
   "metadata": {},
   "outputs": [],
   "source": [
    "corrdat = df_clean.corr()\n",
    "def getCorr(dat, lim): #obtiene los features con mayor impacto en el target\n",
    "    feature = []\n",
    "    valor = []\n",
    "    \n",
    "    for i , index in enumerate(dat.index): #bucle para todos los indices\n",
    "        if abs(dat[index]) > lim:\n",
    "            feature.append(index)\n",
    "            #print(index)\n",
    "            valor.append(dat[index])\n",
    "\n",
    "    df = pd.DataFrame(data = valor, index = feature, columns = ['corr value'])\n",
    "\n",
    "    return df\n",
    "\n",
    "lim = 0.4\n",
    "corr_value = getCorr(corrdat[\"medv\"], lim)"
   ]
  },
  {
   "cell_type": "code",
   "execution_count": 8,
   "id": "15b67865",
   "metadata": {},
   "outputs": [],
   "source": [
    "df_op = df_clean[corr_value.index]"
   ]
  },
  {
   "cell_type": "code",
   "execution_count": 9,
   "id": "e232714b",
   "metadata": {},
   "outputs": [],
   "source": [
    "X = df_op.drop(['medv'], axis=1)\n",
    "Y = df_op.medv.copy()"
   ]
  },
  {
   "cell_type": "code",
   "execution_count": 10,
   "id": "a705d6e5",
   "metadata": {},
   "outputs": [],
   "source": [
    "Xtrain, Xtest, Ytrain, Ytest = train_test_split(X,Y,test_size=0.2, random_state=16062021)"
   ]
  },
  {
   "cell_type": "code",
   "execution_count": 11,
   "id": "b14e05f9",
   "metadata": {},
   "outputs": [],
   "source": [
    "model_tree_grid = DecisionTreeRegressor()\n",
    "\n",
    "params = {\"max_depth\": np.arange(3, 10),          # ej: [3,4,5]\n",
    "          \"min_samples_split\": np.arange(2, 10),  # ej: [2,3,4]\n",
    "          \"random_state\": np.array([16062021])\n",
    "          }"
   ]
  },
  {
   "cell_type": "code",
   "execution_count": 13,
   "id": "fec28eb2",
   "metadata": {},
   "outputs": [],
   "source": [
    "train_mode_b = dict(Xtrain.mode().iloc[0])"
   ]
  },
  {
   "cell_type": "code",
   "execution_count": 14,
   "id": "ff01e8fe",
   "metadata": {},
   "outputs": [
    {
     "data": {
      "text/plain": [
       "{'rm': 6.004, 'ptratio': 19.2, 'lstat': 5.33}"
      ]
     },
     "execution_count": 14,
     "metadata": {},
     "output_type": "execute_result"
    }
   ],
   "source": [
    "train_mode_b"
   ]
  },
  {
   "cell_type": "code",
   "execution_count": 15,
   "id": "71410cb6",
   "metadata": {},
   "outputs": [
    {
     "data": {
      "text/plain": [
       "GridSearchCV(cv=10, estimator=DecisionTreeRegressor(),\n",
       "             param_grid={'max_depth': array([3, 4, 5, 6, 7, 8, 9]),\n",
       "                         'min_samples_split': array([2, 3, 4, 5, 6, 7, 8, 9]),\n",
       "                         'random_state': array([16062021])},\n",
       "             scoring='r2')"
      ]
     },
     "execution_count": 15,
     "metadata": {},
     "output_type": "execute_result"
    }
   ],
   "source": [
    "grid = GridSearchCV(estimator=model_tree_grid, param_grid=params, cv=10, scoring='r2')\n",
    "grid.fit(Xtrain, Ytrain)"
   ]
  },
  {
   "cell_type": "code",
   "execution_count": 16,
   "id": "fda48f58",
   "metadata": {},
   "outputs": [
    {
     "name": "stdout",
     "output_type": "stream",
     "text": [
      "0.6673883614425868\n",
      "{'max_depth': 9, 'min_samples_split': 9, 'random_state': 16062021}\n"
     ]
    }
   ],
   "source": [
    "print(grid.best_score_)\n",
    "print(grid.best_params_)"
   ]
  },
  {
   "cell_type": "code",
   "execution_count": 17,
   "id": "552a1ca1",
   "metadata": {},
   "outputs": [
    {
     "data": {
      "text/plain": [
       "DecisionTreeRegressor(max_depth=9, min_samples_split=9, random_state=16062021)"
      ]
     },
     "execution_count": 17,
     "metadata": {},
     "output_type": "execute_result"
    }
   ],
   "source": [
    "dtree = DecisionTreeRegressor(max_depth=9, min_samples_split=9, random_state=16062021)\n",
    "dtree.fit(X, Y)"
   ]
  },
  {
   "cell_type": "code",
   "execution_count": 19,
   "id": "dd5bd067",
   "metadata": {},
   "outputs": [
    {
     "data": {
      "text/plain": [
       "['./train_mode_b.joblib']"
      ]
     },
     "execution_count": 19,
     "metadata": {},
     "output_type": "execute_result"
    }
   ],
   "source": [
    "joblib.dump(dtree, \"./decision_tree.joblib\", compress=True)\n",
    "joblib.dump(train_mode_a, \"./train_mode_a.joblib\", compress=True)\n",
    "joblib.dump(train_mode_b, \"./train_mode_b.joblib\", compress=True)"
   ]
  },
  {
   "cell_type": "code",
   "execution_count": 45,
   "id": "a1c3ab06",
   "metadata": {},
   "outputs": [
    {
     "data": {
      "text/plain": [
       "array([[ 6.998, 18.7  ,  2.94 ]])"
      ]
     },
     "execution_count": 45,
     "metadata": {},
     "output_type": "execute_result"
    }
   ],
   "source": [
    "input_data = [6.998,18.7,2.94]\n",
    "np.array(input_data).reshape(1, -1)"
   ]
  },
  {
   "cell_type": "code",
   "execution_count": 42,
   "id": "6478908a",
   "metadata": {},
   "outputs": [],
   "source": [
    "#Xtest"
   ]
  },
  {
   "cell_type": "code",
   "execution_count": 43,
   "id": "1eb9797c",
   "metadata": {},
   "outputs": [
    {
     "data": {
      "text/plain": [
       "array([34.5375])"
      ]
     },
     "execution_count": 43,
     "metadata": {},
     "output_type": "execute_result"
    }
   ],
   "source": [
    "dtree.predict(np.array(input_data).reshape(1, -1))"
   ]
  },
  {
   "cell_type": "code",
   "execution_count": null,
   "id": "685e1b3f",
   "metadata": {},
   "outputs": [],
   "source": []
  }
 ],
 "metadata": {
  "kernelspec": {
   "display_name": "venv",
   "language": "python",
   "name": "venv"
  },
  "language_info": {
   "codemirror_mode": {
    "name": "ipython",
    "version": 3
   },
   "file_extension": ".py",
   "mimetype": "text/x-python",
   "name": "python",
   "nbconvert_exporter": "python",
   "pygments_lexer": "ipython3",
   "version": "3.9.5"
  }
 },
 "nbformat": 4,
 "nbformat_minor": 5
}
